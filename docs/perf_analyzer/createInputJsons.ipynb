{
 "cells": [
  {
   "cell_type": "code",
   "execution_count": 2,
   "metadata": {},
   "outputs": [],
   "source": [
    "from koinapy import Koina\n",
    "from pyteomics import fasta, parser\n",
    "import pandas as pd"
   ]
  },
  {
   "cell_type": "code",
   "execution_count": 3,
   "metadata": {},
   "outputs": [],
   "source": [
    "with open(\"models.txt\") as f:\n",
    "    models = [x.strip() for x in f.readlines()]"
   ]
  },
  {
   "cell_type": "code",
   "execution_count": 4,
   "metadata": {},
   "outputs": [],
   "source": [
    "peptides = []\n",
    "with fasta.read(\"20231117_UP000005640_9606.fasta\") as f:\n",
    "    for description, sequence in f:\n",
    "        peptides += list(parser.cleave(sequence, parser.expasy_rules['trypsin'], missed_cleavages=0))\n",
    "\n",
    "inputs = pd.DataFrame()  \n",
    "inputs['peptide_sequences'] = list(set(peptides)) \n",
    "inputs['precursor_charges'] = 2\n",
    "inputs['collision_energies'] = 25.0\n",
    "inputs['instrument_types'] = \"QE\"\n",
    "inputs['fragmentation_types'] = \"HCD\"\n",
    "\n",
    "seq_lengths = inputs[\"peptide_sequences\"].str.len()\n",
    "\n",
    "# filter = (seq_lengths > 6) & (seq_lengths < 31) & ~(inputs[\"peptide_sequences\"].str.contains(\"X\")) & ~(inputs[\"peptide_sequences\"].str.contains(\"U\"))\n",
    "# filter = (seq_lengths == 7) & ~(inputs[\"peptide_sequences\"].str.contains(\"X\")) & ~(inputs[\"peptide_sequences\"].str.contains(\"U\"))\n",
    "filter = (seq_lengths == 15) & ~(inputs[\"peptide_sequences\"].str.contains(\"X\")) & ~(inputs[\"peptide_sequences\"].str.contains(\"U\"))\n",
    "# filter = (seq_lengths == 30) & ~(inputs[\"peptide_sequences\"].str.contains(\"X\")) & ~(inputs[\"peptide_sequences\"].str.contains(\"U\"))\n",
    "inputs = inputs[filter]\n",
    "inputs.sort_values(\"peptide_sequences\", key= lambda col: col.str.len(), inplace=True)\n",
    "inputs = inputs.sample(100)"
   ]
  },
  {
   "cell_type": "code",
   "execution_count": 5,
   "metadata": {},
   "outputs": [
    {
     "name": "stderr",
     "output_type": "stream",
     "text": [
      "WARNING: All log messages before absl::InitializeLog() is called are written to STDERR\n",
      "I0000 00:00:1742311354.435337  229165 config.cc:230] gRPC experiments enabled: call_status_override_on_cancellation, event_engine_dns, event_engine_listener, http2_stats_fix, monitoring_experiment, pick_first_new, trace_record_callops, work_serializer_clears_time_cache\n"
     ]
    }
   ],
   "source": [
    "for model_name in models:\n",
    "    dict_inputs = {\n",
    "        input_field: inputs[input_field].to_numpy().reshape(-1, 1)\n",
    "        for input_field in Koina(model_name).model_inputs.keys()\n",
    "    }\n",
    "\n",
    "    if 'TMT' in model_name:\n",
    "        dict_inputs[\"peptide_sequences\"] = \"[UNIMOD:737]-\" + dict_inputs[\"peptide_sequences\"]\n",
    "\n",
    "    jsonPayload = {\n",
    "        \"data\": list(Koina._Koina__slice_dict(dict_inputs, 1))\n",
    "    }\n",
    "\n",
    "    for batch in jsonPayload[\"data\"]:\n",
    "        for name, input in batch.items():\n",
    "            batch[name] = input.flatten().tolist()\n",
    "\n",
    "    import json\n",
    "    with open(f'inputs/{model_name}.json', 'w') as file:\n",
    "        json.dump(jsonPayload, file, indent=2)"
   ]
  },
  {
   "cell_type": "code",
   "execution_count": null,
   "metadata": {},
   "outputs": [],
   "source": []
  }
 ],
 "metadata": {
  "kernelspec": {
   "display_name": "koinapy-PcqH75qC-py3.8",
   "language": "python",
   "name": "python3"
  },
  "language_info": {
   "codemirror_mode": {
    "name": "ipython",
    "version": 3
   },
   "file_extension": ".py",
   "mimetype": "text/x-python",
   "name": "python",
   "nbconvert_exporter": "python",
   "pygments_lexer": "ipython3",
   "version": "3.8.20"
  }
 },
 "nbformat": 4,
 "nbformat_minor": 2
}
